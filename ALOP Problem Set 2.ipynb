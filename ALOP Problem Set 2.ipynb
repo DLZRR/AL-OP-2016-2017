{
 "cells": [
  {
   "cell_type": "code",
   "execution_count": 7,
   "metadata": {
    "collapsed": false
   },
   "outputs": [
    {
     "name": "stdout",
     "output_type": "stream",
     "text": [
      "The amplitude of Jupiter is 6.54120031499e-07\n",
      "The amplitude of Earth is 7.43298979273e-09\n"
     ]
    }
   ],
   "source": [
    "import numpy as np\n",
    "\n",
    "#Question 1\n",
    "def amplitude(P, M_planet, M_star, i):\n",
    "    '''\n",
    "    function to calculate the amplitude\n",
    "    P in days\n",
    "    M_planet in Jupiter masses\n",
    "    M_star in solar masses\n",
    "    i is the inclination in radians\n",
    "    returns in unit: \n",
    "    '''\n",
    "    G = 6.67e-11\n",
    "    return((2*np.pi*G/P)**(1/3)*(M_planet*np.sin(i)/(M_planet+M_star)**(2/3)))\n",
    "    \n",
    "print(\"The amplitude of Jupiter is\",amplitude(4332.71*24*60*60, 1., 1., np.pi/2))\n",
    "print(\"The amplitude of Earth is\",amplitude(365*24*60*60, 1./318, 1., np.pi/2))"
   ]
  }
 ],
 "metadata": {
  "kernelspec": {
   "display_name": "Python 3",
   "language": "python",
   "name": "python3"
  },
  "language_info": {
   "codemirror_mode": {
    "name": "ipython",
    "version": 3
   },
   "file_extension": ".py",
   "mimetype": "text/x-python",
   "name": "python",
   "nbconvert_exporter": "python",
   "pygments_lexer": "ipython3",
   "version": "3.4.3"
  }
 },
 "nbformat": 4,
 "nbformat_minor": 1
}
