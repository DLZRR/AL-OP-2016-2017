{
 "cells": [
  {
   "cell_type": "code",
   "execution_count": 2,
   "metadata": {
    "collapsed": false
   },
   "outputs": [
    {
     "name": "stdout",
     "output_type": "stream",
     "text": [
      "The amplitude of Jupiter is 12.4530093443\n",
      "The amplitude of Earth is 0.089387761657\n"
     ]
    }
   ],
   "source": [
    "#Question 1\n",
    "\n",
    "\n",
    "import numpy as np\n",
    "\n",
    "\n",
    "def amplitude(P, M_planet, M_star, i):\n",
    "    '''\n",
    "    function to calculate the amplitude\n",
    "    P in days\n",
    "    M_planet in Jupiter masses\n",
    "    M_star in solar masses\n",
    "    i is the inclination in radians\n",
    "    returns in unit: \n",
    "    '''\n",
    "    G = 6.67e-11\n",
    "    return((1)*(2*np.pi*G/(P*24*60*60))**(1/3)*((M_planet*1.898e27)*np.sin(i)/((M_planet*1.898e27)+(M_star*1.989e30))**(2/3)))\n",
    "    \n",
    "print(\"The amplitude of Jupiter is\",amplitude(4332.71, 1., 1., np.pi/2))\n",
    "print(\"The amplitude of Earth is\",amplitude(365, 1./318, 1., np.pi/2))"
   ]
  },
  {
   "cell_type": "code",
   "execution_count": null,
   "metadata": {
    "collapsed": false
   },
   "outputs": [],
   "source": [
    "#Question 2\n",
    "\n",
    "import pandas as pd\n",
    "import matplotlib.pyplot as plt\n",
    "%matplotlib inline\n",
    "\n",
    "def modelv(t, v, sigma):\n",
    "    t22 = 1e20\n",
    "    t23 = []\n",
    "    var = 0\n",
    "    P = np.arange(4, 6.01, 0.01)#should be 0.01 and 6.01\n",
    "    k = np.arange(50,71,1)\n",
    "    f_0 = np.arange(0, 1.01, 0.01) #should be 1.01 and 0.01\n",
    "    v_0 = np.arange(0, 16, 1) #should be 15.1 and 0.1\n",
    "    \n",
    "    for i in range(len(P)):\n",
    "        \n",
    "        for j in range(len(k)):\n",
    "            \n",
    "            for m in range(len(f_0)):\n",
    "                \n",
    "                for n in range(len(v_0)):\n",
    "                    \n",
    "                    for z in range(len(v)):\n",
    "                        \n",
    "                        var = var + ((v[z] - k[j]*np.sin(2*np.pi*(t[z]/P[i] +f_0[m])) + v_0[n]) / sigma[z])\n",
    "                    \n",
    "                    plt.scatter(P[i], var, color = 'blue')\n",
    "                    \n",
    "                    if(var < t22):\n",
    "                        t23 = []\n",
    "                        t22 = var\n",
    "                        t23.append(k[j])\n",
    "                        t23.append(P[i])\n",
    "                        t23.append(f_0[m])\n",
    "                        t23.append(v_0[n])\n",
    "                        \n",
    "    plt.scatter(t23[1], chi2func(t23[0], t23[1], t23[2], t23[3], t, v, sigma), color = 'red')\n",
    "    \n",
    "    print(\"f is \", t23[2], \"v_0 is \", t23[3], \"k is \", t23[0], \"P is\", t23[1])\n",
    "    \n",
    "    return(t23[0], t23[1], t23[2], t23[3])\n",
    "        \n",
    "def chi2min(t, v, sigma):\n",
    "    list1 = []\n",
    "    a, b, c, d = modelv(t, v, sigma)\n",
    "    list1.append(a)\n",
    "    list1.append(b)\n",
    "    list1.append(c)\n",
    "    list1.append(d)\n",
    "        \n",
    "        \n",
    "def chi2func(k, P, f_0, v_0, t, v, sigma):\n",
    "    t1 = 0\n",
    "    for i in range(len(v)):\n",
    "        t1 = t1 + ((v[i] - k*np.sin(2*np.pi*(t[i]/P +f_0)) + v_0) / sigma[i])\n",
    "    return(t1)\n",
    "    \n",
    "\n",
    "column_names = ['Time', 'Speed', 'Uncer']\n",
    "\n",
    "Data = pd.read_table('Data/51Peg mayorqueloz95.dat', sep = '\\s+', names = column_names)\n",
    "\n",
    "#Data.plot()#not good plot\n",
    "plt.plot(Data.Time, Data.Speed)\n",
    "\n",
    "chi2min(Data.Time, Data.Speed, Data.Uncer)\n",
    "plt.figure(1)"
   ]
  }
 ],
 "metadata": {
  "anaconda-cloud": {},
  "kernelspec": {
   "display_name": "Python 3",
   "language": "python",
   "name": "python3"
  },
  "language_info": {
   "codemirror_mode": {
    "name": "ipython",
    "version": 3
   },
   "file_extension": ".py",
   "mimetype": "text/x-python",
   "name": "python",
   "nbconvert_exporter": "python",
   "pygments_lexer": "ipython3",
   "version": "3.4.3"
  }
 },
 "nbformat": 4,
 "nbformat_minor": 1
}
