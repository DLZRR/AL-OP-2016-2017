{
 "cells": [
  {
   "cell_type": "markdown",
   "metadata": {},
   "source": [
    "Danker Roozemond Astronomy 1694855 Stars Computer Opgave 6"
   ]
  },
  {
   "cell_type": "code",
   "execution_count": 1,
   "metadata": {
    "collapsed": false
   },
   "outputs": [
    {
     "name": "stdout",
     "output_type": "stream",
     "text": [
      "ColDefs(\n",
      "    name = 'time'; format = 'E'; unit = 'ms'\n",
      "    name = 'Rad'; format = 'E'; unit = 'cm'\n",
      "    name = 'Den'; format = 'E'; unit = 'g/cm3'\n",
      "    name = 'Ent'; format = 'E'; unit = '1.38x10-23 J/K'\n",
      "    name = 'Ye'; format = 'E'\n",
      "    name = 'Yl'; format = 'E'\n",
      "    name = 'Enue'; format = 'E'; unit = 'MeV'\n",
      "    name = 'Enuebar'; format = 'E'; unit = 'MeV'\n",
      "    name = 'Lnue'; format = 'D'; unit = 'erg/s'\n",
      "    name = 'Lnuebar'; format = 'D'; unit = 'erg/s'\n",
      "    name = 'Rshock'; format = 'E'; unit = 'cm'\n",
      "    name = 'Ekin'; format = 'D'; unit = 'erg'\n",
      "    name = 'Eemit'; format = 'D'; unit = 'erg'\n",
      ")\n"
     ]
    }
   ],
   "source": [
    "import numpy as np\n",
    "import matplotlib.pyplot as plt\n",
    "from astropy.io import fits\n",
    "from scipy.optimize import curve_fit\n",
    "%matplotlib inline\n",
    "\n",
    "def read_in_data(fitsfile):\n",
    "    hdulist = fits.open(fitsfile)\n",
    "    cols_names = hdulist[1].columns.names #array\n",
    "    print(hdulist[1].columns)\n",
    "    data = hdulist[1].data\n",
    "    hdulist.close()\n",
    "    lijst = []\n",
    "    for i in range(len(cols_names)):\n",
    "        lijst.append(data.field(cols_names[i]))\n",
    "    return(np.asarray(lijst))\n",
    "\n",
    "\n",
    "data = read_in_data(\"SUPERNOVA(1).fits\")"
   ]
  },
  {
   "cell_type": "code",
   "execution_count": 28,
   "metadata": {
    "collapsed": false
   },
   "outputs": [
    {
     "data": {
      "text/plain": [
       "<matplotlib.text.Text at 0x1865747a4a8>"
      ]
     },
     "execution_count": 28,
     "metadata": {},
     "output_type": "execute_result"
    },
    {
     "data": {
      "image/png": "[encoded data removed]",
      "text/plain": [
       "<matplotlib.figure.Figure at 0x1865746d860>"
      ]
     },
     "metadata": {},
     "output_type": "display_data"
    }
   ],
   "source": [
    "#Question 1\n",
    "\n",
    "plt.plot(data[0][:],data[5][:]/data[4][:])\n",
    "plt.xlim(-0.10,0)\n",
    "plt.xlabel(\"Time in milliseconds\")\n",
    "plt.ylabel(\"Neutrino fraction(Neutrinos divided by electrons)\")"
   ]
  },
  {
   "cell_type": "markdown",
   "metadata": {},
   "source": [
    "Question 1: Reactions of electrons and positrons with neutrons and protons create a huge amount of neutrinos before the bounce and thus the electron amount decreases too."
   ]
  },
  {
   "cell_type": "markdown",
   "metadata": {},
   "source": [
    "Question 2: Because of the high temperature and pressure caused by the collapsing core the iron atoms are broken up to helium nuclei. Because of this the pressure goes down in the core causing that it collapses even more."
   ]
  },
  {
   "cell_type": "code",
   "execution_count": 10,
   "metadata": {
    "collapsed": false
   },
   "outputs": [
    {
     "name": "stdout",
     "output_type": "stream",
     "text": [
      "2.9618484147129534e+53\n",
      "5.538239999999999e-06\n"
     ]
    }
   ],
   "source": [
    "#Question 3\n",
    "\n",
    "print(6.67408e-11*(1.5 * 1.989e30)**2. * (1./20000. - 1./(6.955e8*0.01))*1.0e7 )#Unit:erg\n",
    "#This should be around 3e53\n",
    "\n",
    "#Question 4\n",
    "\n",
    "print(2.*10.**10 * 3.846e26*1.e7/400.*24.*60.*60./3.e53*100)#Unit: percent"
   ]
  },
  {
   "cell_type": "markdown",
   "metadata": {},
   "source": [
    "Question 3: The formula I use to calculate the gravitiational energy is $-\\frac{GM^2}{R}$. From this I get 3.0 $*$ 10$^{53}$ erg."
   ]
  },
  {
   "cell_type": "markdown",
   "metadata": {},
   "source": [
    "Question 4: Dividing the bolometric luminosity by the period in seconds and by the gravitational energy I get 5.5 $*$ 10$^{-6}$ %."
   ]
  },
  {
   "cell_type": "code",
   "execution_count": 29,
   "metadata": {
    "collapsed": false
   },
   "outputs": [
    {
     "data": {
      "text/plain": [
       "<matplotlib.text.Text at 0x186584f7588>"
      ]
     },
     "execution_count": 29,
     "metadata": {},
     "output_type": "execute_result"
    },
    {
     "data": {
      "image/png": "[encoded data removed]",
      "text/plain": [
       "<matplotlib.figure.Figure at 0x186584d5b70>"
      ]
     },
     "metadata": {},
     "output_type": "display_data"
    }
   ],
   "source": [
    "#Question 5\n",
    "\n",
    "#print(data[1][:]/500e6)\n",
    "plt.plot(data[0][:],data[8][:], label='not anti')\n",
    "plt.plot(data[0][:],data[9][:], label='anti')\n",
    "plt.legend()\n",
    "plt.xlabel(\"Time in ms\")\n",
    "plt.ylabel(\"Luminosity erg s$^{-1}$\")\n",
    "#plt.xlim(-0.10,0)"
   ]
  },
  {
   "cell_type": "markdown",
   "metadata": {},
   "source": [
    "Question 5: The neutrinos are pushed out of the core with energy which creates the high luminosity before the collapse at t=0."
   ]
  },
  {
   "cell_type": "code",
   "execution_count": 23,
   "metadata": {
    "collapsed": false,
    "scrolled": true
   },
   "outputs": [
    {
     "name": "stdout",
     "output_type": "stream",
     "text": [
      "3.35142300195e+71\n"
     ]
    }
   ],
   "source": [
    "#Question 6\n",
    "\n",
    "iets1 = data[12][data[0][:]>=0]\n",
    "iets2 = data[12][data[0][:]<0]\n",
    "ietsiets = iets1[-1]-iets2[-1]\n",
    "\n",
    "iets = ietsiets/5.7e-37/(3.00e8)**2.\n",
    "print(iets)\n",
    "#print(data[0][data[0][:]>=0])\n",
    "#print(data[12][data[0][:]>=0])"
   ]
  },
  {
   "cell_type": "markdown",
   "metadata": {},
   "source": [
    "Question 6: I divide the amount of emitted energy accumulated at 0.3 ms by the energy of a neutrino. This gives 3.35 $* 10^{71}$ neutrinos. This is a factor a billion to big."
   ]
  },
  {
   "cell_type": "code",
   "execution_count": 30,
   "metadata": {
    "collapsed": false
   },
   "outputs": [
    {
     "data": {
      "text/plain": [
       "<matplotlib.text.Text at 0x18658787400>"
      ]
     },
     "execution_count": 30,
     "metadata": {},
     "output_type": "execute_result"
    },
    {
     "data": {
      "image/png": "[encoded data removed]",
      "text/plain": [
       "<matplotlib.figure.Figure at 0x186587b30b8>"
      ]
     },
     "metadata": {},
     "output_type": "display_data"
    }
   ],
   "source": [
    "#Question 7\n",
    "\n",
    "def delta( x ):\n",
    "    l = []\n",
    "    for i in range(len(x)-1):\n",
    "        l.append(x[i+1]-x[i])\n",
    "    l.append(1)\n",
    "    return(np.asarray(l))\n",
    "def func( x, a, b ):\n",
    "    return( a * x + b )\n",
    "#a\n",
    "L_emit = data[12][:]/delta(data[0][:])\n",
    "plt.plot(data[0][:], L_emit)\n",
    "plt.xlabel(\"Time in ms\")\n",
    "plt.ylabel(\"Luminosity in erg s$^{-1}$\")\n",
    "#b\n",
    "#popt, pcov = curve_fit(func, data[0][data[0][:]>=0.3], L_emit)\n",
    "#plt.plot(data[0][data[0][:]>=0.3], func(data[0][data[0][:]>=0.3], *popt))"
   ]
  },
  {
   "cell_type": "code",
   "execution_count": 7,
   "metadata": {
    "collapsed": false
   },
   "outputs": [
    {
     "name": "stdout",
     "output_type": "stream",
     "text": [
      "ColDefs(\n",
      "    name = 'time'; format = 'E'\n",
      "    name = 'Rad'; format = 'E'\n",
      "    name = 'Ent'; format = 'E'\n",
      "    name = 'Den'; format = 'E'\n",
      "    name = 'Ye'; format = 'E'\n",
      "    name = 'Yl'; format = 'E'\n",
      "    name = 'Enue'; format = 'E'\n",
      "    name = 'Enuebar'; format = 'E'\n",
      "    name = 'Lnue'; format = 'D'\n",
      "    name = 'Lnuebar'; format = 'D'\n",
      "    name = 'Rshock'; format = 'E'\n",
      "    name = 'Ekin'; format = 'D'\n",
      "    name = 'Eemit'; format = 'D'\n",
      ")\n"
     ]
    }
   ],
   "source": [
    "#Question 9\n",
    "\n",
    "dataGR = read_in_data(\"SUPERNOVA_GR(1).fits\")"
   ]
  },
  {
   "cell_type": "code",
   "execution_count": null,
   "metadata": {
    "collapsed": true
   },
   "outputs": [],
   "source": []
  }
 ],
 "metadata": {
  "kernelspec": {
   "display_name": "Python 3",
   "language": "python",
   "name": "python3"
  },
  "language_info": {
   "codemirror_mode": {
    "name": "ipython",
    "version": 3
   },
   "file_extension": ".py",
   "mimetype": "text/x-python",
   "name": "python",
   "nbconvert_exporter": "python",
   "pygments_lexer": "ipython3",
   "version": "3.6.0"
  }
 },
 "nbformat": 4,
 "nbformat_minor": 2
}
